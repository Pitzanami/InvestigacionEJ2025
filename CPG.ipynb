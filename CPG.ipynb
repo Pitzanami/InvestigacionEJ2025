{
 "cells": [
  {
   "cell_type": "markdown",
   "metadata": {},
   "source": [
    "# CPG\n",
    "\n",
    "El CPG, Central Patron Generator, o Generador Central de Patrones, es una parte del sistema nervioso que genera pulsos para coordinar actividades sin la necesidad de recibir un estímulo externo, cómo la locomoción.\n",
    "\n",
    "A nivel programación, contamos con el modelo de una neurona BMS, y vamos a construir una función que tome la matríz de conexión, y una matriz de estados iniciales, de forma que se emule un CPG a tiempo discreto."
   ]
  },
  {
   "cell_type": "code",
   "execution_count": 1,
   "metadata": {},
   "outputs": [],
   "source": [
    "import numpy as np"
   ]
  },
  {
   "cell_type": "code",
   "execution_count": 32,
   "metadata": {},
   "outputs": [],
   "source": [
    "def cambio2(i, k, V, W, Z, N, gamma = 0.5, i_ext = 0.1, theta = 1):\n",
    "    a = sum([W[i][j]*Z[j][k-1] for j in range(N)])\n",
    "\n",
    "    V[i][k] = gamma * V[i][k-1] * (1 - Z[i][k-1]) + i_ext + a\n",
    "    Z[i][k] = 1 if V[i][k] >= theta else 0 "
   ]
  },
  {
   "cell_type": "code",
   "execution_count": 47,
   "metadata": {},
   "outputs": [],
   "source": [
    "class CPG:\n",
    "    def __init__(self, K:int, W, V_0, gamma = 0.5, i_ext = 0.1, theta = 1):\n",
    "        self.N = len(W)\n",
    "        self.gamma = gamma\n",
    "        self.i_ext = i_ext\n",
    "        self.theta = theta\n",
    "        self.W = W\n",
    "        self.V_0 = V_0              # Estado inicial\n",
    "        self.K = K                  \n",
    "        #print(V_0.shape)\n",
    "        #print(np.zeros((self.N, k)).shape)\n",
    "        self.V = np.concatenate((V_0, np.zeros((self.N, K))), axis = 1)  \n",
    "        self.Z = self.V.copy()\n",
    "        \n",
    "        for i in range(self.N):\n",
    "            self.Z[i][0] = 1 if self.V[i][0] >= theta else 0\n",
    "        \n",
    "        #print(self.Z)\n",
    "        #print(self.V)\n",
    "\n",
    "    def cambio(self, i, k):\n",
    "        acum = sum([self.W[i][j]*self.Z[j][k-1] for j in range(self.N)])\n",
    "\n",
    "        self.V[i][k] = self.gamma * self.V[i][k-1] * (1 - self.Z[i][k-1]) + self.i_ext + acum\n",
    "        self.Z[i][k] = 1 if self.V[i][k] >= self.theta else 0 \n",
    "\n",
    "    def print_V(self):\n",
    "        print(self.V)\n",
    "\n",
    "    def simulacion(self):\n",
    "        for k in range(1, self.K):\n",
    "            for i in range(self.N):\n",
    "                self.cambio(i, k)\n",
    "        return self.Z"
   ]
  },
  {
   "cell_type": "code",
   "execution_count": 42,
   "metadata": {},
   "outputs": [
    {
     "name": "stdout",
     "output_type": "stream",
     "text": [
      "[[0. 0. 0. 0. 0. 0. 0.]\n",
      " [1. 0. 0. 0. 0. 0. 0.]]\n",
      "[[0.8 0.  0.  0.  0.  0.  0. ]\n",
      " [1.2 0.  0.  0.  0.  0.  0. ]]\n",
      "[[0.8    1.3    0.1    0.95   0.575  0.3875 0.    ]\n",
      " [1.2    0.1    1.85   0.1    0.15   0.175  0.    ]]\n"
     ]
    }
   ],
   "source": [
    "pesos = np.array([[0, 0.8],[1.7, 0]])\n",
    "inicio = np.array([[0.8], [1.2]])\n",
    "\n",
    "prueba = CPG(6, pesos, inicio)\n",
    "print(prueba.simulacion())"
   ]
  },
  {
   "cell_type": "code",
   "execution_count": 52,
   "metadata": {},
   "outputs": [
    {
     "name": "stdout",
     "output_type": "stream",
     "text": [
      "[[0. 0. 1. 0. 0. 0. 1. 0. 0. 0. 1. 0.]\n",
      " [0. 1. 0. 0. 0. 1. 0. 0. 0. 1. 0. 0.]\n",
      " [0. 0. 0. 0. 0. 1. 1. 0. 0. 1. 1. 0.]\n",
      " [1. 0. 0. 0. 1. 0. 0. 0. 1. 0. 0. 0.]\n",
      " [0. 0. 0. 0. 1. 1. 0. 0. 1. 1. 0. 0.]\n",
      " [0. 0. 0. 0. 1. 0. 0. 0. 1. 0. 0. 0.]\n",
      " [0. 0. 0. 1. 0. 0. 0. 1. 0. 0. 0. 0.]\n",
      " [0. 0. 0. 1. 1. 0. 0. 1. 1. 0. 0. 0.]\n",
      " [0. 0. 0. 0. 0. 0. 1. 1. 0. 0. 1. 0.]\n",
      " [1. 1. 1. 1. 1. 1. 1. 1. 1. 1. 1. 0.]]\n"
     ]
    }
   ],
   "source": [
    "W_w = np.array([\n",
    "    [0, 4, 0, 0, 0, 0, 0, 0, 0, 0, 0, 0],\n",
    "    [0, 0, 0, 3, 0, 0, 0, 0, 0, 0, 0, 9],\n",
    "    [0, 0, 0, 0, 1, 0, 0, 0, 0, 0, 0, 0],\n",
    "    [0, 0, 0, 0, 0, 0, 7, 0, 0, 0, 0, 0],\n",
    "    [0, 0, 0, 0, 0, 0, 0, 6, 0, 0, 0, 0],\n",
    "    [0, 0, 0, 0, 0, 0, 1, 0, 0, 0, 0, 0],\n",
    "    [7, 0, 0, 0, 0, 0, 0, 0, 0, 0, 0, 0],\n",
    "    [6, 0, 0, 0, 0, 0, 3, 0, 0, 0, 0, 0],\n",
    "    [0, 0, 6, 0, 0, 0, 0, 0, 0, 0, 0, 0],\n",
    "    [0, 0, 0, 6, 0, 0, 0, 0, 0, 5, 0, 0]\n",
    "])\n",
    "Ini = np.array([\n",
    "    [0],\n",
    "    [0],\n",
    "    [0],\n",
    "    [1],\n",
    "    [0.5],\n",
    "    [0],\n",
    "    [0.5],\n",
    "    [0],\n",
    "    [0],\n",
    "    [1]\n",
    "])\n",
    "prueba2 = CPG(11, W_w, Ini)\n",
    "print(prueba2.simulacion())"
   ]
  },
  {
   "cell_type": "code",
   "execution_count": null,
   "metadata": {},
   "outputs": [],
   "source": []
  }
 ],
 "metadata": {
  "kernelspec": {
   "display_name": "Python 3",
   "language": "python",
   "name": "python3"
  },
  "language_info": {
   "codemirror_mode": {
    "name": "ipython",
    "version": 3
   },
   "file_extension": ".py",
   "mimetype": "text/x-python",
   "name": "python",
   "nbconvert_exporter": "python",
   "pygments_lexer": "ipython3",
   "version": "3.10.0"
  }
 },
 "nbformat": 4,
 "nbformat_minor": 2
}
