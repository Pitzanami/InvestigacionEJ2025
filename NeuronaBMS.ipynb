{
 "cells": [
  {
   "cell_type": "code",
   "execution_count": 1,
   "metadata": {},
   "outputs": [],
   "source": [
    "import numpy as np"
   ]
  },
  {
   "cell_type": "markdown",
   "metadata": {},
   "source": [
    "# Neurona BMS"
   ]
  },
  {
   "cell_type": "code",
   "execution_count": 2,
   "metadata": {},
   "outputs": [],
   "source": [
    "def cambio(i, k, V, W, Z, N, gamma = 0.5, i_ext = 0.1, theta = 1):\n",
    "    a = sum([W[i][j]*Z[j][k-1] for j in range(N)])\n",
    "\n",
    "    V[i][k] = gamma * V[i][k-1] * (1 - Z[i][k-1]) + i_ext + a\n",
    "    Z[i][k] = 1 if V[i][k] >= theta else 0 "
   ]
  },
  {
   "cell_type": "code",
   "execution_count": 3,
   "metadata": {},
   "outputs": [],
   "source": [
    "N = 2\n",
    "W = [[0, 0],[0.7, 0]]\n",
    "V = np.zeros((N, 6))\n",
    "Z = np.zeros((N, 6))\n",
    "V[0] = [0.8, 1.3, 0, 0.7, 1.1, 0]\n",
    "Z[0] = [0, 1, 0, 0, 1, 0]"
   ]
  },
  {
   "cell_type": "code",
   "execution_count": 4,
   "metadata": {},
   "outputs": [
    {
     "name": "stdout",
     "output_type": "stream",
     "text": [
      "[[0.8 1.3 0.  0.7 1.1 0. ]\n",
      " [0.  0.1 0.  0.  0.  0. ]]\n",
      "[[0.8  1.3  0.   0.7  1.1  0.  ]\n",
      " [0.   0.1  0.85 0.   0.   0.  ]]\n",
      "[[0.8   1.3   0.    0.7   1.1   0.   ]\n",
      " [0.    0.1   0.85  0.525 0.    0.   ]]\n",
      "[[0.8    1.3    0.     0.7    1.1    0.    ]\n",
      " [0.     0.1    0.85   0.525  0.3625 0.    ]]\n",
      "[[0.8     1.3     0.      0.7     1.1     0.     ]\n",
      " [0.      0.1     0.85    0.525   0.3625  0.98125]]\n"
     ]
    }
   ],
   "source": [
    "for i in range(1, 6):\n",
    "    cambio(1, i, V, W, Z, N)\n",
    "    print(V)"
   ]
  },
  {
   "cell_type": "code",
   "execution_count": 5,
   "metadata": {},
   "outputs": [
    {
     "name": "stdout",
     "output_type": "stream",
     "text": [
      "[[0.8 1.3 0.  0.  0.  0. ]\n",
      " [1.2 0.1 0.  0.  0.  0. ]]\n",
      "[[0.8  1.3  0.1  0.   0.   0.  ]\n",
      " [1.2  0.1  1.85 0.   0.   0.  ]]\n",
      "[[0.8  1.3  0.1  0.95 0.   0.  ]\n",
      " [1.2  0.1  1.85 0.1  0.   0.  ]]\n",
      "[[0.8   1.3   0.1   0.95  0.575 0.   ]\n",
      " [1.2   0.1   1.85  0.1   0.15  0.   ]]\n",
      "[[0.8    1.3    0.1    0.95   0.575  0.3875]\n",
      " [1.2    0.1    1.85   0.1    0.15   0.175 ]]\n"
     ]
    }
   ],
   "source": [
    "N = 2\n",
    "W = [[0, 0.8],[1.7, 0]]\n",
    "V = np.zeros((N, 6))\n",
    "Z = np.zeros((N, 6))\n",
    "V[0][0] = 0.8\n",
    "V[1][0] = 1.2\n",
    "Z[0][0] = 0\n",
    "Z[1][0] = 1\n",
    "\n",
    "for k in range(1, 6):\n",
    "    for i in range(N):\n",
    "        cambio(i, k, V, W, Z, N)\n",
    "    print(V)"
   ]
  }
 ],
 "metadata": {
  "kernelspec": {
   "display_name": "Python 3",
   "language": "python",
   "name": "python3"
  },
  "language_info": {
   "codemirror_mode": {
    "name": "ipython",
    "version": 3
   },
   "file_extension": ".py",
   "mimetype": "text/x-python",
   "name": "python",
   "nbconvert_exporter": "python",
   "pygments_lexer": "ipython3",
   "version": "3.10.0"
  }
 },
 "nbformat": 4,
 "nbformat_minor": 2
}
